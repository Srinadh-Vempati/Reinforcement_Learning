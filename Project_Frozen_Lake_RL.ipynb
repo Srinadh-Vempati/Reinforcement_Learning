{
 "cells": [
  {
   "cell_type": "code",
   "execution_count": 2,
   "id": "1c709f8a",
   "metadata": {},
   "outputs": [],
   "source": [
    "import numpy as np\n",
    "import gym\n",
    "import random\n",
    "import time\n",
    "from IPython.display import clear_output"
   ]
  },
  {
   "cell_type": "markdown",
   "id": "10af564d",
   "metadata": {},
   "source": [
    "# Environment Creation"
   ]
  },
  {
   "cell_type": "code",
   "execution_count": 5,
   "id": "1bb1b90c",
   "metadata": {},
   "outputs": [],
   "source": [
    "env = gym.make(\"FrozenLake-v1\")"
   ]
  },
  {
   "cell_type": "markdown",
   "id": "3d66a4d6",
   "metadata": {},
   "source": [
    "# Creating Q Table & Intialization"
   ]
  },
  {
   "cell_type": "code",
   "execution_count": 6,
   "id": "ebbe5e17",
   "metadata": {},
   "outputs": [],
   "source": [
    "action_space_size = env.action_space.n\n",
    "state_space_size = env.observation_space.n"
   ]
  },
  {
   "cell_type": "code",
   "execution_count": 7,
   "id": "070fbc69",
   "metadata": {},
   "outputs": [
    {
     "name": "stdout",
     "output_type": "stream",
     "text": [
      "[[0. 0. 0. 0.]\n",
      " [0. 0. 0. 0.]\n",
      " [0. 0. 0. 0.]\n",
      " [0. 0. 0. 0.]\n",
      " [0. 0. 0. 0.]\n",
      " [0. 0. 0. 0.]\n",
      " [0. 0. 0. 0.]\n",
      " [0. 0. 0. 0.]\n",
      " [0. 0. 0. 0.]\n",
      " [0. 0. 0. 0.]\n",
      " [0. 0. 0. 0.]\n",
      " [0. 0. 0. 0.]\n",
      " [0. 0. 0. 0.]\n",
      " [0. 0. 0. 0.]\n",
      " [0. 0. 0. 0.]\n",
      " [0. 0. 0. 0.]]\n"
     ]
    }
   ],
   "source": [
    "q_table = np.zeros((state_space_size,action_space_size))\n",
    "print(q_table)"
   ]
  },
  {
   "cell_type": "markdown",
   "id": "4a94f0b1",
   "metadata": {},
   "source": [
    "# Parameters for Learning"
   ]
  },
  {
   "cell_type": "code",
   "execution_count": 10,
   "id": "b896b34d",
   "metadata": {},
   "outputs": [],
   "source": [
    "num_episodes = 10000            \n",
    "max_steps_per_episode = 100      \n",
    "\n",
    "learning_rate = 0.1\n",
    "discount_rate = 0.99\n",
    "\n",
    "exploration_rate = 1\n",
    "max_exploration_rate = 1\n",
    "min_exploration_rate = 0.01\n",
    "exploration_decay_rate = 0.001"
   ]
  },
  {
   "cell_type": "code",
   "execution_count": 11,
   "id": "662d289f",
   "metadata": {},
   "outputs": [
    {
     "name": "stdout",
     "output_type": "stream",
     "text": [
      "--------Average reward per thousand episodes--------\n",
      "\n",
      "1000 :  0.04000000000000003\n",
      "2000 :  0.21300000000000016\n",
      "3000 :  0.4020000000000003\n",
      "4000 :  0.5590000000000004\n",
      "5000 :  0.6420000000000005\n",
      "6000 :  0.7100000000000005\n",
      "7000 :  0.6770000000000005\n",
      "8000 :  0.6630000000000005\n",
      "9000 :  0.7060000000000005\n",
      "10000 :  0.6580000000000005\n"
     ]
    }
   ],
   "source": [
    "rewards_all_episodes = []\n",
    "\n",
    "# Q learning Algorithm\n",
    "for episode in range(num_episodes):\n",
    "    state = env.reset()\n",
    "    \n",
    "    done = False\n",
    "    rewards_current_episode = 0\n",
    "    \n",
    "    for step in range(max_steps_per_episode):\n",
    "        \n",
    "        # Exploration-Exploitation trade off\n",
    "        \n",
    "        exploration_rate_threshold = random.uniform(0,1)\n",
    "        \n",
    "        if exploration_rate_threshold > exploration_rate:\n",
    "            action = np.argmax(q_table[state,:])\n",
    "            \n",
    "        else:\n",
    "            action = env.action_space.sample()\n",
    "            \n",
    "        new_state, reward, done, info = env.step(action)\n",
    "        \n",
    "        \n",
    "        # Update Q-tabel for Q(s,a)\n",
    "        \n",
    "        q_table[state,action] = q_table[state,action]*(1-learning_rate) + \\\n",
    "            learning_rate*(reward + discount_rate*np.max(q_table[new_state,:]))\n",
    "        \n",
    "        state = new_state\n",
    "        rewards_current_episode += reward\n",
    "        \n",
    "        if done == True:\n",
    "            break\n",
    "        \n",
    "    \n",
    "    # Exploration rate decay\n",
    "    \n",
    "    exploration_rate = min_exploration_rate + \\\n",
    "        (max_exploration_rate-min_exploration_rate)*np.exp(-exploration_decay_rate*episode)\n",
    "    \n",
    "    \n",
    "    rewards_all_episodes.append(rewards_current_episode)\n",
    "\n",
    "\n",
    "# Avwerage Reward per thousand episodes\n",
    "\n",
    "rewards_per_thousand_episodes = np.split(np.array(rewards_all_episodes),num_episodes/1000)\n",
    "count = 1000\n",
    "\n",
    "print(\"--------Average reward per thousand episodes--------\\n\")\n",
    "for r in rewards_per_thousand_episodes:\n",
    "    print(count, \": \", str(sum(r/1000)))\n",
    "    count += 1000\n",
    "\n"
   ]
  },
  {
   "cell_type": "code",
   "execution_count": 15,
   "id": "83041060",
   "metadata": {},
   "outputs": [
    {
     "name": "stdout",
     "output_type": "stream",
     "text": [
      "------- updated Q-table------\n",
      "\n",
      "[[0.59569426 0.51230323 0.51288354 0.50750226]\n",
      " [0.25744645 0.3647274  0.3026097  0.52129895]\n",
      " [0.40568347 0.41416226 0.41335174 0.48822076]\n",
      " [0.27145833 0.30797598 0.3567334  0.45182715]\n",
      " [0.61294595 0.33839684 0.39067767 0.3366957 ]\n",
      " [0.         0.         0.         0.        ]\n",
      " [0.37000427 0.09266115 0.18882527 0.1012663 ]\n",
      " [0.         0.         0.         0.        ]\n",
      " [0.36469119 0.35379447 0.4642201  0.64809152]\n",
      " [0.50141391 0.69117461 0.50142785 0.46786012]\n",
      " [0.62826376 0.39032551 0.39161086 0.32824592]\n",
      " [0.         0.         0.         0.        ]\n",
      " [0.         0.         0.         0.        ]\n",
      " [0.35664254 0.58794056 0.7817631  0.52048468]\n",
      " [0.71182553 0.89408652 0.71818521 0.73354311]\n",
      " [0.         0.         0.         0.        ]]\n"
     ]
    }
   ],
   "source": [
    "# Print final updated Q-table\n",
    "print(\"------- updated Q-table------\\n\")\n",
    "print(q_table)"
   ]
  },
  {
   "cell_type": "markdown",
   "id": "4d1a2d04",
   "metadata": {},
   "source": [
    "# Watch Agent Play"
   ]
  },
  {
   "cell_type": "code",
   "execution_count": 17,
   "id": "926fd652",
   "metadata": {},
   "outputs": [
    {
     "name": "stdout",
     "output_type": "stream",
     "text": [
      "---Goal Reached---\n"
     ]
    }
   ],
   "source": [
    "for episode in range(3):\n",
    "    state = env.reset()\n",
    "    done = False\n",
    "    \n",
    "    print(\"------EPISODE \",episode+1, \" -------\\n\\n\")\n",
    "    time.sleep(1)\n",
    "    \n",
    "    for step in range(max_steps_per_episode):\n",
    "        clear_output(wait=True)\n",
    "        env.render()\n",
    "        time.sleep(0.3)\n",
    "        \n",
    "        action = np.argmax(q_table[state,:])\n",
    "        new_state, reward, done, info = env.step(action)\n",
    "        \n",
    "        if done:\n",
    "            clear_output(wait=True)\n",
    "            env.render()\n",
    "            \n",
    "            if reward == 1:\n",
    "                print(\"---Goal Reached---\")\n",
    "                time.sleep(3)\n",
    "            else:\n",
    "                print(\"--- Failed---\")\n",
    "                time.sleep(1)\n",
    "            \n",
    "            clear_output(wait=True)\n",
    "            break\n",
    "            \n",
    "        state = new_state\n",
    "\n",
    "env.close()"
   ]
  }
 ],
 "metadata": {
  "kernelspec": {
   "display_name": "Python 3 (ipykernel)",
   "language": "python",
   "name": "python3"
  },
  "language_info": {
   "codemirror_mode": {
    "name": "ipython",
    "version": 3
   },
   "file_extension": ".py",
   "mimetype": "text/x-python",
   "name": "python",
   "nbconvert_exporter": "python",
   "pygments_lexer": "ipython3",
   "version": "3.9.7"
  }
 },
 "nbformat": 4,
 "nbformat_minor": 5
}
